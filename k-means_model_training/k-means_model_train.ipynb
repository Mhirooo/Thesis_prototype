{
 "cells": [
  {
   "cell_type": "code",
   "execution_count": null,
   "id": "8fe98ee3",
   "metadata": {},
   "outputs": [],
   "source": [
    "# Cell 1: Install Dependencies\n",
    "%pip install -q sentence-transformers scikit-learn chromadb matplotlib"
   ]
  },
  {
   "cell_type": "code",
   "execution_count": null,
   "id": "dad95f4d",
   "metadata": {},
   "outputs": [],
   "source": [
    "# Cell 2: Import Libraries\n",
    "import pandas as pd\n",
    "import numpy as np\n",
    "from sentence_transformers import SentenceTransformer\n",
    "from sklearn.cluster import KMeans\n",
    "from sklearn.metrics import silhouette_score\n",
    "from sklearn.metrics.pairwise import cosine_similarity\n",
    "import matplotlib.pyplot as plt\n",
    "import random\n",
    "import joblib\n",
    "from sklearn.decomposition import PCA"
   ]
  },
  {
   "cell_type": "code",
   "execution_count": null,
   "id": "ffa1578a",
   "metadata": {},
   "outputs": [],
   "source": [
    "# Cell 3: Load and Split Dataset\n",
    "data = pd.read_csv(\"resume_screening_train.csv\") \n",
    "\n",
    "train = data.sample(frac=0.8, random_state=42)\n",
    "test = data.drop(train.index)\n",
    "\n",
    "# Reset index\n",
    "train = train.reset_index(drop=True)\n",
    "test = test.reset_index(drop=True)\n",
    "\n",
    "# Concatenate Role and Job Description\n",
    "train['role_jobdesc'] = train['Role'] + \" \" + train['job_description']\n",
    "test['role_jobdesc'] = test['Role'] + \" \" + test['job_description']"
   ]
  },
  {
   "cell_type": "code",
   "execution_count": null,
   "id": "8f8264a6",
   "metadata": {},
   "outputs": [],
   "source": [
    "# Cell 4: Load SBERT and Encode Embeddings\n",
    "model = SentenceTransformer('sentence-transformers/all-MiniLM-L6-v2')\n",
    "\n",
    "# Encode only the role_jobdesc for clustering (no resume encoding for clustering)\n",
    "role_jobdesc_embeddings_train = model.encode(train['role_jobdesc'].tolist(), show_progress_bar=True)\n",
    "role_jobdesc_embeddings_test = model.encode(test['role_jobdesc'].tolist(), show_progress_bar=True)\n",
    "\n",
    "# Encode resumes for cosine similarity evaluation later (not for clustering)\n",
    "resume_embeddings_train = model.encode(train['resume'].tolist(), show_progress_bar=True)\n",
    "resume_embeddings_test = model.encode(test['resume'].tolist(), show_progress_bar=True)\n",
    "\n",
    "# For clustering, use only job description embeddings\n",
    "X_train_embeddings = role_jobdesc_embeddings_train\n",
    "X_test_embeddings = role_jobdesc_embeddings_test"
   ]
  },
  {
   "cell_type": "code",
   "execution_count": null,
   "id": "bbc64b41",
   "metadata": {},
   "outputs": [],
   "source": [
    "# Cell 5: Elbow Method to Determine Best k (using only job description embeddings)\n",
    "inertias = []\n",
    "k_values = range(2, 15)\n",
    "\n",
    "for k in k_values:\n",
    "    kmeans = KMeans(n_clusters=k, random_state=42)\n",
    "    kmeans.fit(X_train_embeddings)  # Now using only job description embeddings\n",
    "    inertias.append(kmeans.inertia_)\n",
    "\n",
    "# Plot elbow curve\n",
    "plt.plot(k_values, inertias, marker='o')\n",
    "plt.xlabel('Number of clusters (k)')\n",
    "plt.ylabel('Inertia')\n",
    "plt.title('Elbow Method for Optimal k')\n",
    "plt.show()\n",
    "\n",
    "silhouette_scores = []\n",
    "for k in k_values:\n",
    "    kmeans = KMeans(n_clusters=k, random_state=42)\n",
    "    labels = kmeans.fit_predict(X_train_embeddings)\n",
    "    score = silhouette_score(X_train_embeddings, labels)\n",
    "    silhouette_scores.append(score)\n",
    "\n",
    "best_k = k_values[np.argmax(silhouette_scores)]\n",
    "print(f\"Best k selected: {best_k}\")"
   ]
  },
  {
   "cell_type": "code",
   "execution_count": null,
   "id": "bc284a1b",
   "metadata": {},
   "outputs": [],
   "source": [
    "# Cell 6: Train Final K-Means Model (on job descriptions only)\n",
    "kmeans = KMeans(n_clusters=best_k, random_state=42)\n",
    "kmeans.fit(X_train_embeddings)"
   ]
  },
  {
   "cell_type": "code",
   "execution_count": null,
   "id": "3c9c5a9d",
   "metadata": {},
   "outputs": [],
   "source": [
    "# Cell 7: Cluster Visualization after Training (using job descriptions only)\n",
    "pca = PCA(n_components=2)\n",
    "train_2d = pca.fit_transform(X_train_embeddings)  # PCA on job description embeddings\n",
    "\n",
    "# Get cluster assignments\n",
    "train_clusters = kmeans.predict(X_train_embeddings)\n",
    "centroids_2d = pca.transform(kmeans.cluster_centers_)\n",
    "\n",
    "# Plot\n",
    "plt.figure(figsize=(8,6))\n",
    "plt.scatter(train_2d[:,0], train_2d[:,1], c=train_clusters, cmap='tab10', alpha=0.6, s=30)\n",
    "plt.scatter(centroids_2d[:,0], centroids_2d[:,1], c='red', marker='X', s=200, label='Centroids')\n",
    "plt.title(\"Cluster Visualization (Training Data - Job Descriptions)\")\n",
    "plt.xlabel(\"PCA Component 1\")\n",
    "plt.ylabel(\"PCA Component 2\")\n",
    "plt.legend()\n",
    "plt.show()"
   ]
  },
  {
   "cell_type": "code",
   "execution_count": null,
   "id": "b8b365ab",
   "metadata": {},
   "outputs": [],
   "source": [
    "# Cell 8: Evaluation on Training Data (job descriptions only)\n",
    "train_labels = kmeans.predict(X_train_embeddings)\n",
    "train_silhouette = silhouette_score(X_train_embeddings, train_labels)\n",
    "print(f\"Silhouette Score (Train): {train_silhouette:.4f}\")"
   ]
  },
  {
   "cell_type": "code",
   "execution_count": null,
   "id": "bcb35565",
   "metadata": {},
   "outputs": [],
   "source": [
    "# Cell 9: Testing Phase (predict clusters for test job descriptions)\n",
    "test_labels = kmeans.predict(X_test_embeddings)\n",
    "test_silhouette = silhouette_score(X_test_embeddings, test_labels)\n",
    "print(f\"Silhouette Score (Test): {test_silhouette:.4f}\")"
   ]
  },
  {
   "cell_type": "code",
   "execution_count": null,
   "id": "27524d8c",
   "metadata": {},
   "outputs": [],
   "source": [
    "# Cell 10: Cosine Similarity Evaluation (between resumes and job descriptions - for evaluation only)\n",
    "sample_indices = random.sample(range(len(resume_embeddings_test)), 5)\n",
    "\n",
    "for idx in sample_indices:\n",
    "    resume_vec = resume_embeddings_test[idx].reshape(1, -1)\n",
    "    role_jobdesc_vec = role_jobdesc_embeddings_test[idx].reshape(1, -1)\n",
    "    sim_score = cosine_similarity(resume_vec, role_jobdesc_vec)[0][0]\n",
    "    print(f\"Sample {idx} | Cosine Similarity (Resume ↔ Role+JD): {sim_score:.4f}\")\n",
    "\n",
    "# Average similarity\n",
    "all_similarities = [\n",
    "    cosine_similarity(resume_embeddings_test[i].reshape(1, -1), role_jobdesc_embeddings_test[i].reshape(1, -1))[0][0]\n",
    "    for i in range(len(resume_embeddings_test))\n",
    "]\n",
    "print(f\"Average Cosine Similarity (Resume ↔ Role+JD, Test Set): {np.mean(all_similarities):.4f}\")"
   ]
  },
  {
   "cell_type": "code",
   "execution_count": null,
   "id": "7d2caae9",
   "metadata": {},
   "outputs": [],
   "source": [
    "# Cell 11: Save Artifacts\n",
    "joblib.dump(kmeans, \"kmeans_model.pkl\")\n",
    "print(\"KMeans model saved as kmeans_model.pkl\")"
   ]
  }
 ],
 "metadata": {
  "language_info": {
   "name": "python"
  }
 },
 "nbformat": 4,
 "nbformat_minor": 5
}
